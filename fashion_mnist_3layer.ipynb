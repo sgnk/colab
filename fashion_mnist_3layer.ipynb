{
  "nbformat": 4,
  "nbformat_minor": 0,
  "metadata": {
    "colab": {
      "name": "fashion_mnist_3layer.ipynb",
      "version": "0.3.2",
      "provenance": [],
      "include_colab_link": true
    },
    "kernelspec": {
      "name": "python3",
      "display_name": "Python 3"
    }
  },
  "cells": [
    {
      "cell_type": "markdown",
      "metadata": {
        "id": "view-in-github",
        "colab_type": "text"
      },
      "source": [
        "<a href=\"https://colab.research.google.com/github/sgnk/colab/blob/master/fashion_mnist_3layer.ipynb\" target=\"_parent\"><img src=\"https://colab.research.google.com/assets/colab-badge.svg\" alt=\"Open In Colab\"/></a>"
      ]
    },
    {
      "metadata": {
        "id": "PXA15A3q_W2u",
        "colab_type": "code",
        "colab": {}
      },
      "cell_type": "code",
      "source": [
        "import tensorflow as tf\n",
        "from tensorflow import keras"
      ],
      "execution_count": 0,
      "outputs": []
    },
    {
      "metadata": {
        "id": "oRoQd0EU_gIo",
        "colab_type": "code",
        "colab": {}
      },
      "cell_type": "code",
      "source": [
        "%matplotlib inline\n",
        "import matplotlib.pyplot as plt"
      ],
      "execution_count": 0,
      "outputs": []
    },
    {
      "metadata": {
        "id": "xIQ3tfDw_mll",
        "colab_type": "code",
        "colab": {}
      },
      "cell_type": "code",
      "source": [
        "(x_train, y_train), (x_test, y_test) = keras.datasets.fashion_mnist.load_data()"
      ],
      "execution_count": 0,
      "outputs": []
    },
    {
      "metadata": {
        "id": "vI_AeMdYCIrn",
        "colab_type": "code",
        "colab": {
          "base_uri": "https://localhost:8080/",
          "height": 34
        },
        "outputId": "f2413272-62e5-4f83-d465-552c8802f021"
      },
      "cell_type": "code",
      "source": [
        "len(x_train)"
      ],
      "execution_count": 13,
      "outputs": [
        {
          "output_type": "execute_result",
          "data": {
            "text/plain": [
              "60000"
            ]
          },
          "metadata": {
            "tags": []
          },
          "execution_count": 13
        }
      ]
    },
    {
      "metadata": {
        "id": "b96pu84oCv5g",
        "colab_type": "text"
      },
      "cell_type": "markdown",
      "source": [
        "Label\t| Class\n",
        ":--|:--\n",
        "0|T-shirt/top\n",
        "1|Trouser\n",
        "2|Pullover\n",
        "3|Dress\n",
        "4|Coat\n",
        "5|Sandal\n",
        "6|Shirt\n",
        "7|Sneaker\n",
        "8|Bag\n",
        "9|Ankle boot\n"
      ]
    },
    {
      "metadata": {
        "id": "3pmrh9fiCNJa",
        "colab_type": "code",
        "colab": {
          "base_uri": "https://localhost:8080/",
          "height": 239
        },
        "outputId": "1fe0dd69-bb19-4320-9635-fc5f33c5b883"
      },
      "cell_type": "code",
      "source": [
        "for i in range(10):\n",
        "  plt.subplot(2, 5, i+1)\n",
        "  plt.title(\"Label:\" + str(i))\n",
        "  plt.imshow(x_train[i].reshape(28,28), cmap=None)"
      ],
      "execution_count": 14,
      "outputs": [
        {
          "output_type": "display_data",
          "data": {
            "image/png": "[encoded data removed]",
            "text/plain": [
              "<matplotlib.figure.Figure at 0x7fddc65dc470>"
            ]
          },
          "metadata": {
            "tags": []
          }
        }
      ]
    },
    {
      "metadata": {
        "id": "z9SwnD9rCQHU",
        "colab_type": "code",
        "colab": {
          "base_uri": "https://localhost:8080/",
          "height": 34
        },
        "outputId": "a77c7432-84b0-477d-c7a3-06377af71fe1"
      },
      "cell_type": "code",
      "source": [
        "y_train[0:10]"
      ],
      "execution_count": 15,
      "outputs": [
        {
          "output_type": "execute_result",
          "data": {
            "text/plain": [
              "array([9, 0, 0, 3, 0, 2, 7, 2, 5, 5], dtype=uint8)"
            ]
          },
          "metadata": {
            "tags": []
          },
          "execution_count": 15
        }
      ]
    },
    {
      "metadata": {
        "id": "9G8nqDkdCVua",
        "colab_type": "code",
        "colab": {}
      },
      "cell_type": "code",
      "source": [
        "x_train, x_test = x_train / 255.0, x_test / 255.0"
      ],
      "execution_count": 0,
      "outputs": []
    },
    {
      "metadata": {
        "id": "aK3UPYb-NVB_",
        "colab_type": "code",
        "colab": {}
      },
      "cell_type": "code",
      "source": [
        "model = keras.models.Sequential([\n",
        "  keras.layers.Flatten(),\n",
        "  keras.layers.Dense(512, activation='relu'),\n",
        "  keras.layers.Dropout(0.2),\n",
        "  keras.layers.Dense(10, activation='softmax')\n",
        "])"
      ],
      "execution_count": 0,
      "outputs": []
    },
    {
      "metadata": {
        "id": "d3pvnMHvNb20",
        "colab_type": "code",
        "colab": {}
      },
      "cell_type": "code",
      "source": [
        "model.compile(optimizer='adam',\n",
        "              loss='sparse_categorical_crossentropy',\n",
        "              metrics=['accuracy'])"
      ],
      "execution_count": 0,
      "outputs": []
    },
    {
      "metadata": {
        "id": "akv5tBD4Nd2v",
        "colab_type": "code",
        "colab": {
          "base_uri": "https://localhost:8080/",
          "height": 204
        },
        "outputId": "8a6d5848-9c4a-46ce-c99d-e2b53cd21eb3"
      },
      "cell_type": "code",
      "source": [
        "model.fit(x_train, y_train, epochs=5)"
      ],
      "execution_count": 19,
      "outputs": [
        {
          "output_type": "stream",
          "text": [
            "Epoch 1/5\n",
            "60000/60000 [==============================] - 15s 251us/step - loss: 0.4746 - acc: 0.8327\n",
            "Epoch 2/5\n",
            "60000/60000 [==============================] - 14s 233us/step - loss: 0.3583 - acc: 0.8683\n",
            "Epoch 3/5\n",
            "60000/60000 [==============================] - 14s 232us/step - loss: 0.3240 - acc: 0.8813\n",
            "Epoch 4/5\n",
            "60000/60000 [==============================] - 14s 232us/step - loss: 0.3004 - acc: 0.8888\n",
            "Epoch 5/5\n",
            "60000/60000 [==============================] - 14s 233us/step - loss: 0.2805 - acc: 0.8948\n"
          ],
          "name": "stdout"
        },
        {
          "output_type": "execute_result",
          "data": {
            "text/plain": [
              "<tensorflow.python.keras.callbacks.History at 0x7fddc60c6630>"
            ]
          },
          "metadata": {
            "tags": []
          },
          "execution_count": 19
        }
      ]
    },
    {
      "metadata": {
        "id": "UX3s4D09Nfd9",
        "colab_type": "code",
        "colab": {
          "base_uri": "https://localhost:8080/",
          "height": 51
        },
        "outputId": "cbe2bb95-4e2c-4983-871f-ad4ff67b87be"
      },
      "cell_type": "code",
      "source": [
        "model.evaluate(x_test, y_test)"
      ],
      "execution_count": 20,
      "outputs": [
        {
          "output_type": "stream",
          "text": [
            "10000/10000 [==============================] - 1s 56us/step\n"
          ],
          "name": "stdout"
        },
        {
          "output_type": "execute_result",
          "data": {
            "text/plain": [
              "[0.3302142892599106, 0.8813]"
            ]
          },
          "metadata": {
            "tags": []
          },
          "execution_count": 20
        }
      ]
    },
    {
      "metadata": {
        "id": "z5mtVHvMN0hA",
        "colab_type": "code",
        "colab": {
          "base_uri": "https://localhost:8080/",
          "height": 239
        },
        "outputId": "c80e32b5-77a2-4843-d58e-d822b08d238e"
      },
      "cell_type": "code",
      "source": [
        "for i in range(10):\n",
        "  plt.subplot(2, 5, i+1)\n",
        "  plt.title(\"Label:\" + str(i))\n",
        "  plt.imshow(x_test[i].reshape(28,28), cmap=None)"
      ],
      "execution_count": 21,
      "outputs": [
        {
          "output_type": "display_data",
          "data": {
            "image/png": "[encoded data removed]",
            "text/plain": [
              "<matplotlib.figure.Figure at 0x7fddbf9b81d0>"
            ]
          },
          "metadata": {
            "tags": []
          }
        }
      ]
    },
    {
      "metadata": {
        "id": "8v4r1CFjN29o",
        "colab_type": "code",
        "colab": {
          "base_uri": "https://localhost:8080/",
          "height": 34
        },
        "outputId": "11216f71-2394-4a01-8ddf-9e4d4fc5acb0"
      },
      "cell_type": "code",
      "source": [
        "y_test[0:10]"
      ],
      "execution_count": 22,
      "outputs": [
        {
          "output_type": "execute_result",
          "data": {
            "text/plain": [
              "array([9, 2, 1, 1, 6, 1, 4, 6, 5, 7], dtype=uint8)"
            ]
          },
          "metadata": {
            "tags": []
          },
          "execution_count": 22
        }
      ]
    },
    {
      "metadata": {
        "id": "KQBfKyaaN7Xe",
        "colab_type": "code",
        "colab": {
          "base_uri": "https://localhost:8080/",
          "height": 68
        },
        "outputId": "cad8cb7e-adbc-48fb-817b-aa1d1fafbc73"
      },
      "cell_type": "code",
      "source": [
        "model.predict(x_test[0:1])"
      ],
      "execution_count": 24,
      "outputs": [
        {
          "output_type": "execute_result",
          "data": {
            "text/plain": [
              "array([[6.6756620e-08, 2.4959975e-08, 3.9543067e-09, 6.2629735e-10,\n",
              "        4.8052733e-08, 5.0392346e-03, 2.4062768e-08, 2.8514177e-02,\n",
              "        9.4405877e-08, 9.6644628e-01]], dtype=float32)"
            ]
          },
          "metadata": {
            "tags": []
          },
          "execution_count": 24
        }
      ]
    },
    {
      "metadata": {
        "id": "MiKAgSDnOCb9",
        "colab_type": "code",
        "colab": {}
      },
      "cell_type": "code",
      "source": [
        ""
      ],
      "execution_count": 0,
      "outputs": []
    }
  ]
}